{
 "cells": [
  {
   "cell_type": "code",
   "execution_count": 3,
   "id": "c50eaea1-5da4-48d9-b81d-d391e67bdb4e",
   "metadata": {},
   "outputs": [],
   "source": [
    "# import librarys\n",
    "import pandas as pd\n",
    "import numpy as np\n",
    "import matplotlib.pyplot as plt\n",
    "import seaborn as sns"
   ]
  },
  {
   "cell_type": "code",
   "execution_count": 7,
   "id": "ad877cb4-ef6b-482a-9fae-6382640dc1f1",
   "metadata": {},
   "outputs": [],
   "source": [
    "#read file data\n",
    "df = pd.read_csv('penguins.csv')"
   ]
  },
  {
   "cell_type": "code",
   "execution_count": 152,
   "id": "bad22f4d-9ed0-4959-bff8-5e0a5dd62b53",
   "metadata": {},
   "outputs": [
    {
     "data": {
      "text/html": [
       "<div>\n",
       "<style scoped>\n",
       "    .dataframe tbody tr th:only-of-type {\n",
       "        vertical-align: middle;\n",
       "    }\n",
       "\n",
       "    .dataframe tbody tr th {\n",
       "        vertical-align: top;\n",
       "    }\n",
       "\n",
       "    .dataframe thead th {\n",
       "        text-align: right;\n",
       "    }\n",
       "</style>\n",
       "<table border=\"1\" class=\"dataframe\">\n",
       "  <thead>\n",
       "    <tr style=\"text-align: right;\">\n",
       "      <th></th>\n",
       "      <th>rowid</th>\n",
       "      <th>species</th>\n",
       "      <th>island</th>\n",
       "      <th>bill_length_mm</th>\n",
       "      <th>bill_depth_mm</th>\n",
       "      <th>flipper_length_mm</th>\n",
       "      <th>body_mass_g</th>\n",
       "      <th>sex</th>\n",
       "      <th>year</th>\n",
       "    </tr>\n",
       "  </thead>\n",
       "  <tbody>\n",
       "    <tr>\n",
       "      <th>0</th>\n",
       "      <td>1</td>\n",
       "      <td>Adelie</td>\n",
       "      <td>Torgersen</td>\n",
       "      <td>39.1</td>\n",
       "      <td>18.7</td>\n",
       "      <td>181.0</td>\n",
       "      <td>3750.0</td>\n",
       "      <td>male</td>\n",
       "      <td>2007</td>\n",
       "    </tr>\n",
       "    <tr>\n",
       "      <th>1</th>\n",
       "      <td>2</td>\n",
       "      <td>Adelie</td>\n",
       "      <td>Torgersen</td>\n",
       "      <td>39.5</td>\n",
       "      <td>17.4</td>\n",
       "      <td>186.0</td>\n",
       "      <td>3800.0</td>\n",
       "      <td>female</td>\n",
       "      <td>2007</td>\n",
       "    </tr>\n",
       "    <tr>\n",
       "      <th>2</th>\n",
       "      <td>3</td>\n",
       "      <td>Adelie</td>\n",
       "      <td>Torgersen</td>\n",
       "      <td>40.3</td>\n",
       "      <td>18.0</td>\n",
       "      <td>195.0</td>\n",
       "      <td>3250.0</td>\n",
       "      <td>female</td>\n",
       "      <td>2007</td>\n",
       "    </tr>\n",
       "    <tr>\n",
       "      <th>3</th>\n",
       "      <td>4</td>\n",
       "      <td>Adelie</td>\n",
       "      <td>Torgersen</td>\n",
       "      <td>NaN</td>\n",
       "      <td>NaN</td>\n",
       "      <td>NaN</td>\n",
       "      <td>NaN</td>\n",
       "      <td>NaN</td>\n",
       "      <td>2007</td>\n",
       "    </tr>\n",
       "    <tr>\n",
       "      <th>4</th>\n",
       "      <td>5</td>\n",
       "      <td>Adelie</td>\n",
       "      <td>Torgersen</td>\n",
       "      <td>36.7</td>\n",
       "      <td>19.3</td>\n",
       "      <td>193.0</td>\n",
       "      <td>3450.0</td>\n",
       "      <td>female</td>\n",
       "      <td>2007</td>\n",
       "    </tr>\n",
       "  </tbody>\n",
       "</table>\n",
       "</div>"
      ],
      "text/plain": [
       "   rowid species     island  bill_length_mm  bill_depth_mm  flipper_length_mm  \\\n",
       "0      1  Adelie  Torgersen            39.1           18.7              181.0   \n",
       "1      2  Adelie  Torgersen            39.5           17.4              186.0   \n",
       "2      3  Adelie  Torgersen            40.3           18.0              195.0   \n",
       "3      4  Adelie  Torgersen             NaN            NaN                NaN   \n",
       "4      5  Adelie  Torgersen            36.7           19.3              193.0   \n",
       "\n",
       "   body_mass_g     sex  year  \n",
       "0       3750.0    male  2007  \n",
       "1       3800.0  female  2007  \n",
       "2       3250.0  female  2007  \n",
       "3          NaN     NaN  2007  \n",
       "4       3450.0  female  2007  "
      ]
     },
     "execution_count": 152,
     "metadata": {},
     "output_type": "execute_result"
    }
   ],
   "source": [
    "df.head()"
   ]
  },
  {
   "cell_type": "code",
   "execution_count": 190,
   "id": "80ebe3d3-39f7-443f-abb2-1957a5ba51e5",
   "metadata": {},
   "outputs": [
    {
     "name": "stdout",
     "output_type": "stream",
     "text": [
      "species\n",
      "Adelie       152\n",
      "Gentoo       124\n",
      "Chinstrap     68\n",
      "Name: count, dtype: int64\n",
      "island\n",
      "Biscoe       168\n",
      "Dream        124\n",
      "Torgersen     52\n",
      "Name: count, dtype: int64\n",
      "sex\n",
      "male      168\n",
      "female    165\n",
      "Name: count, dtype: int64\n",
      "year\n",
      "2009    120\n",
      "2008    114\n",
      "2007    110\n",
      "Name: count, dtype: int64\n"
     ]
    }
   ],
   "source": [
    "species_count= df['species'].value_counts()\n",
    "print(species_count)\n",
    "\n",
    "island_count= df['island'].value_counts()\n",
    "print(island_count)\n",
    "\n",
    "sex_count= df['sex'].value_counts()\n",
    "print(sex_count)\n",
    "\n",
    "year_count= df['year'].value_counts()\n",
    "print(year_count)"
   ]
  },
  {
   "cell_type": "code",
   "execution_count": 258,
   "id": "8ac9b7b5-3de6-4b0f-955f-aee0bfa5729b",
   "metadata": {},
   "outputs": [
    {
     "data": {
      "text/html": [
       "<div>\n",
       "<style scoped>\n",
       "    .dataframe tbody tr th:only-of-type {\n",
       "        vertical-align: middle;\n",
       "    }\n",
       "\n",
       "    .dataframe tbody tr th {\n",
       "        vertical-align: top;\n",
       "    }\n",
       "\n",
       "    .dataframe thead th {\n",
       "        text-align: right;\n",
       "    }\n",
       "</style>\n",
       "<table border=\"1\" class=\"dataframe\">\n",
       "  <thead>\n",
       "    <tr style=\"text-align: right;\">\n",
       "      <th></th>\n",
       "      <th>bill_length_mm</th>\n",
       "      <th>bill_depth_mm</th>\n",
       "      <th>flipper_length_mm</th>\n",
       "      <th>body_mass_g</th>\n",
       "    </tr>\n",
       "  </thead>\n",
       "  <tbody>\n",
       "    <tr>\n",
       "      <th>0</th>\n",
       "      <td>39.10000</td>\n",
       "      <td>18.70000</td>\n",
       "      <td>181.000000</td>\n",
       "      <td>3750.000000</td>\n",
       "    </tr>\n",
       "    <tr>\n",
       "      <th>1</th>\n",
       "      <td>39.50000</td>\n",
       "      <td>17.40000</td>\n",
       "      <td>186.000000</td>\n",
       "      <td>3800.000000</td>\n",
       "    </tr>\n",
       "    <tr>\n",
       "      <th>2</th>\n",
       "      <td>40.30000</td>\n",
       "      <td>18.00000</td>\n",
       "      <td>195.000000</td>\n",
       "      <td>3250.000000</td>\n",
       "    </tr>\n",
       "    <tr>\n",
       "      <th>3</th>\n",
       "      <td>43.92193</td>\n",
       "      <td>17.15117</td>\n",
       "      <td>200.915205</td>\n",
       "      <td>4201.754386</td>\n",
       "    </tr>\n",
       "    <tr>\n",
       "      <th>4</th>\n",
       "      <td>36.70000</td>\n",
       "      <td>19.30000</td>\n",
       "      <td>193.000000</td>\n",
       "      <td>3450.000000</td>\n",
       "    </tr>\n",
       "  </tbody>\n",
       "</table>\n",
       "</div>"
      ],
      "text/plain": [
       "   bill_length_mm  bill_depth_mm  flipper_length_mm  body_mass_g\n",
       "0        39.10000       18.70000         181.000000  3750.000000\n",
       "1        39.50000       17.40000         186.000000  3800.000000\n",
       "2        40.30000       18.00000         195.000000  3250.000000\n",
       "3        43.92193       17.15117         200.915205  4201.754386\n",
       "4        36.70000       19.30000         193.000000  3450.000000"
      ]
     },
     "execution_count": 258,
     "metadata": {},
     "output_type": "execute_result"
    }
   ],
   "source": [
    "#Task 2\n",
    "df1 = df.iloc[:,3:7]\n",
    "df1 = df1.fillna(df1.mean())\n",
    "df1.head()\n"
   ]
  },
  {
   "cell_type": "code",
   "execution_count": 455,
   "id": "ffefadaa-46e4-475a-8ec1-4016db5756ba",
   "metadata": {},
   "outputs": [
    {
     "name": "stdout",
     "output_type": "stream",
     "text": [
      "Bill length Mean:  43.92192982456141\n",
      "Bill Depth Mean:  17.151169590643274\n",
      "Flipper length Mean: 200.91520467836258\n",
      "Body Mass Mean:  4201.754385964912\n",
      "\n",
      "bill_length_mm         43.921930\n",
      "bill_depth_mm          17.151170\n",
      "flipper_length_mm     200.915205\n",
      "body_mass_g          4201.754386\n",
      "dtype: float64\n"
     ]
    }
   ],
   "source": [
    "#Compute the mean for each attribute in the dataset:\n",
    "x1 = df1.iloc[:,0]\n",
    "bill_len_mean = x1.mean()\n",
    "print(\"Bill length Mean: \", bill_len_mean)\n",
    "\n",
    "y1 = df1.iloc[:,1]\n",
    "bill_dep_mean = y1.mean()\n",
    "print(\"Bill Depth Mean: \", bill_dep_mean)\n",
    "\n",
    "z1 = df1.iloc[:,2]\n",
    "flipper_len_mean = z1.mean()\n",
    "print(\"Flipper length Mean:\", flipper_len_mean)\n",
    "\n",
    "q1 = df1.iloc[:,3]\n",
    "body_mass_mean = q1.mean()\n",
    "print(\"Body Mass Mean: \", body_mass_mean)\n",
    "\n",
    "\n",
    "# Proper way\n",
    "print()\n",
    "mean = df1.mean()\n",
    "print(mean)"
   ]
  },
  {
   "cell_type": "code",
   "execution_count": 50,
   "id": "204db6c6-1a85-4873-9395-071d798473d9",
   "metadata": {},
   "outputs": [
    {
     "name": "stdout",
     "output_type": "stream",
     "text": [
      "[[ 2.95471091e+01 -2.51213306e+00  4.99364418e+01  2.58286873e+03]\n",
      " [-2.51213306e+00  3.86579806e+00 -1.60715584e+01 -7.40852331e+02]\n",
      " [ 4.99364418e+01 -1.60715584e+01  1.96007386e+02  9.73873802e+03]\n",
      " [ 2.58286873e+03 -7.40852331e+02  9.73873802e+03  6.37522376e+05]]\n"
     ]
    }
   ],
   "source": [
    "# Compute Covariance Matrix (Outer)\n",
    "data = df1.to_numpy() # converts data to numpy\n",
    "data_centered = data-np.mean(data,axis=0)\n",
    "cov_matrix = 1/data.shape[0]*np.dot(data_centered.T,data_centered)\n",
    "print(cov_matrix)"
   ]
  },
  {
   "cell_type": "code",
   "execution_count": 440,
   "id": "672611e5-3cdf-4c83-a012-f1214dfc4878",
   "metadata": {},
   "outputs": [
    {
     "name": "stdout",
     "output_type": "stream",
     "text": [
      "[[ 2.96332523e+01 -2.51945706e+00  5.00820291e+01  2.59039896e+03]\n",
      " [-2.51945706e+00  3.87706861e+00 -1.61184142e+01 -7.43012250e+02]\n",
      " [ 5.00820291e+01 -1.61184142e+01  1.96578837e+02  9.76713084e+03]\n",
      " [ 2.59039896e+03 -7.43012250e+02  9.76713084e+03  6.39381042e+05]]\n"
     ]
    }
   ],
   "source": [
    "# Compute Covariance Matrix (Inner)\n",
    "center = df1 - mean\n",
    "cov_matrix_inner = np.cov(center, rowvar=False)\n",
    "\n",
    "print(cov_matrix_inner)"
   ]
  },
  {
   "cell_type": "code",
   "execution_count": 116,
   "id": "fbfab5b2-0c61-4992-8cc6-e7eb30f416ce",
   "metadata": {},
   "outputs": [
    {
     "name": "stdout",
     "output_type": "stream",
     "text": [
      "                bill_length_mm  bill_depth_mm\n",
      "bill_length_mm        1.000000      -0.235053\n",
      "bill_depth_mm        -0.235053       1.000000\n",
      "Correlation:  -0.23505287035553274\n"
     ]
    }
   ],
   "source": [
    "# Correlation Between Two Attributes(bill_length_mm, bill_depth_mm)\n",
    "corr = df1.iloc[:,0:2]\n",
    "print(corr.corr())\n",
    "\n",
    "correlation = df['bill_length_mm'].corr(df['bill_depth_mm'])\n",
    "print('Correlation: ',correlation)"
   ]
  },
  {
   "cell_type": "code",
   "execution_count": 322,
   "id": "d63edce1-7e90-4d0f-a5d8-bec2333ceb3b",
   "metadata": {},
   "outputs": [
    {
     "name": "stdout",
     "output_type": "stream",
     "text": [
      "-0.23505287035553277\n"
     ]
    }
   ],
   "source": [
    "#Compute the correlation between the two attributes(bill_length_mm, bill_depth_mm) by calculating the cosine of the angle between the centered attribute vectors. Include a scatter plot of these two attributes.\n",
    "\n",
    "bill_len_centered = x1 - bill_len_mean\n",
    "bill_dep_centered = y1 - bill_dep_mean\n",
    "dot_product = np.dot(bill_len_centered, bill_dep_centered)\n",
    "\n",
    "norm1 = np.linalg.norm(bill_len_centered)\n",
    "norm2 = np.linalg.norm(bill_dep_centered)\n",
    "\n",
    "corr = dot_product/ (norm1 * norm2)\n",
    "print(corr)"
   ]
  },
  {
   "cell_type": "code",
   "execution_count": 390,
   "id": "48600e84-d7be-4288-95ef-31e4d02ed716",
   "metadata": {},
   "outputs": [
    {
     "data": {
      "image/png": "[encoded data removed]",
      "text/plain": [
       "<Figure size 640x480 with 1 Axes>"
      ]
     },
     "metadata": {},
     "output_type": "display_data"
    }
   ],
   "source": [
    "#Scatter Plot\n",
    "x = df1.iloc[:,0]\n",
    "y = df1.iloc[:,1]\n",
    "x2 = x1 - x1.mean()\n",
    "y2 = y1 - y1.mean()\n",
    "plt.scatter(x,y)\n",
    "plt.scatter(x2,y2,color = 'black')\n",
    "plt.xlabel(\"Bill Length\")\n",
    "plt.ylabel(\"Bill Depth\")\n",
    "plt.xlim(-65,65)\n",
    "plt.ylim(-20,25)\n",
    "plt.grid()"
   ]
  },
  {
   "cell_type": "code",
   "execution_count": 457,
   "id": "cf983948-a8e3-4533-9102-1e9b78947818",
   "metadata": {},
   "outputs": [],
   "source": [
    "#Compute the Covariance matrix of the three categorical attributes(species, island, and sex).\n",
    "n = df.shape[0]"
   ]
  },
  {
   "cell_type": "code",
   "execution_count": 192,
   "id": "bd45ebff-b010-45d7-9036-c9bbe891ebc3",
   "metadata": {},
   "outputs": [
    {
     "name": "stdout",
     "output_type": "stream",
     "text": [
      "[152 124  68]\n"
     ]
    }
   ],
   "source": [
    "species_count = species_count.to_numpy()\n",
    "print(species_count)"
   ]
  },
  {
   "cell_type": "code",
   "execution_count": 226,
   "id": "80552cdb-5740-4c13-abdd-7ec00542fabd",
   "metadata": {},
   "outputs": [
    {
     "name": "stdout",
     "output_type": "stream",
     "text": [
      "[0.44186047 0.36046512 0.19767442]\n"
     ]
    }
   ],
   "source": [
    "p1 = (species_count/n)\n",
    "print(p1)"
   ]
  },
  {
   "cell_type": "code",
   "execution_count": 246,
   "id": "1a02dc90-2ff5-40c5-93a7-16a98e5f34af",
   "metadata": {},
   "outputs": [
    {
     "name": "stdout",
     "output_type": "stream",
     "text": [
      "[[ 0.07760952 -0.36425095 -0.36425095]\n",
      " [-0.36425095 -0.00378583 -0.36425095]\n",
      " [-0.36425095 -0.36425095 -0.16657653]]\n"
     ]
    }
   ],
   "source": [
    "cov_matrix1 = np.diag(p1)-np.dot(p1.T,p1)\n",
    "print(cov_matrix1)"
   ]
  },
  {
   "cell_type": "code",
   "execution_count": 202,
   "id": "be5669b4-c181-4999-8060-fe1ac0a36bf9",
   "metadata": {},
   "outputs": [
    {
     "name": "stdout",
     "output_type": "stream",
     "text": [
      "[168 124  52]\n"
     ]
    }
   ],
   "source": [
    "island_count = island_count.to_numpy()\n",
    "print(island_count)"
   ]
  },
  {
   "cell_type": "code",
   "execution_count": 236,
   "id": "f56aef72-0ac5-430c-b449-339d7102e85f",
   "metadata": {},
   "outputs": [
    {
     "name": "stdout",
     "output_type": "stream",
     "text": [
      "[0.48837209 0.36046512 0.15116279]\n"
     ]
    }
   ],
   "source": [
    "p2 = (island_count/n)\n",
    "print(p2)"
   ]
  },
  {
   "cell_type": "code",
   "execution_count": 248,
   "id": "1998b168-13f2-4956-865e-92bfa4c4108d",
   "metadata": {},
   "outputs": [
    {
     "name": "stdout",
     "output_type": "stream",
     "text": [
      "[[ 0.0970795  -0.39129259 -0.39129259]\n",
      " [-0.39129259 -0.03082747 -0.39129259]\n",
      " [-0.39129259 -0.39129259 -0.2401298 ]]\n"
     ]
    }
   ],
   "source": [
    "cov_matrix2 = np.diag(p2)-np.dot(p2.T,p2)\n",
    "print(cov_matrix2)"
   ]
  },
  {
   "cell_type": "code",
   "execution_count": 240,
   "id": "531424ef-1e35-47a1-989d-f93cc6abf3da",
   "metadata": {},
   "outputs": [
    {
     "name": "stdout",
     "output_type": "stream",
     "text": [
      "[168 165]\n"
     ]
    }
   ],
   "source": [
    "sex_count = sex_count.to_numpy()\n",
    "print(sex_count)"
   ]
  },
  {
   "cell_type": "code",
   "execution_count": 242,
   "id": "9129811a-b0fc-4fa9-88a7-e4ceff02b751",
   "metadata": {},
   "outputs": [
    {
     "name": "stdout",
     "output_type": "stream",
     "text": [
      "[0.48837209 0.47965116]\n"
     ]
    }
   ],
   "source": [
    "p3 = (sex_count/n)\n",
    "print(p3)"
   ]
  },
  {
   "cell_type": "code",
   "execution_count": 250,
   "id": "28d5ce61-8b31-4a57-8b02-ae4c8d222e15",
   "metadata": {},
   "outputs": [
    {
     "name": "stdout",
     "output_type": "stream",
     "text": [
      "[[ 0.01979955 -0.46857254]\n",
      " [-0.46857254  0.01107862]]\n"
     ]
    }
   ],
   "source": [
    "cov_matrix3 = np.diag(p3)-np.dot(p3.T,p3)\n",
    "print(cov_matrix3)"
   ]
  },
  {
   "cell_type": "code",
   "execution_count": 420,
   "id": "92a9734a-5ef4-409f-b032-477ed05fb0b1",
   "metadata": {},
   "outputs": [
    {
     "data": {
      "text/plain": [
       "[<matplotlib.lines.Line2D at 0x761192391450>]"
      ]
     },
     "execution_count": 420,
     "metadata": {},
     "output_type": "execute_result"
    },
    {
     "data": {
      "image/png": "[encoded data removed]",
      "text/plain": [
       "<Figure size 640x480 with 1 Axes>"
      ]
     },
     "metadata": {},
     "output_type": "display_data"
    }
   ],
   "source": [
    "#Probability Density Function: Assuming the first numerical attribute is normally distributed, plot its probability density function.\n",
    "#(Bill Length)\n",
    "a = df['bill_length_mm'].mean()\n",
    "\n",
    "b = df['bill_length_mm'].std()\n",
    "\n",
    "x = np.linspace(min(df['bill_length_mm']), max(df['bill_length_mm']))\n",
    "\n",
    "pdf = (1 / (b * np.sqrt(2 * np.pi))) * np.exp(-((x - a) ** 2) / (2 * b ** 2))\n",
    "\n",
    "plt.plot(x, pdf)\n"
   ]
  },
  {
   "cell_type": "code",
   "execution_count": 432,
   "id": "3baba42a-7e49-43a9-96f1-1b2baf7b2d06",
   "metadata": {},
   "outputs": [
    {
     "name": "stdout",
     "output_type": "stream",
     "text": [
      "bill_length_mm           29.633252\n",
      "bill_depth_mm             3.877069\n",
      "flipper_length_mm       196.578837\n",
      "body_mass_g          639381.041890\n",
      "dtype: float64\n"
     ]
    }
   ],
   "source": [
    "#Variance Analysis: Identify the numerical attribute with the largest variance and the one with the smallest variance. Print these values.\n",
    "vars = df1.var()\n",
    "print(vars)"
   ]
  },
  {
   "cell_type": "code",
   "execution_count": 430,
   "id": "50ad9205-6abc-49aa-94ab-362ddb1a592f",
   "metadata": {},
   "outputs": [
    {
     "name": "stdout",
     "output_type": "stream",
     "text": [
      "Highest Variance: 639381.041890\n",
      "Lowest Variance: 3.877069\n"
     ]
    }
   ],
   "source": [
    "print('Highest Variance: 639381.041890')\n",
    "print('Lowest Variance: 3.877069')\n"
   ]
  },
  {
   "cell_type": "code",
   "execution_count": 449,
   "id": "acfcd285-ed56-4c77-bb37-c047564beea1",
   "metadata": {},
   "outputs": [
    {
     "name": "stdout",
     "output_type": "stream",
     "text": [
      "Largest Covariance Pair: ('flipper_length_mm', 'body_mass_g') 9767.130837297325\n",
      "Smallest Covariance Pair:  ('bill_depth_mm', 'body_mass_g') -743.0122500127871\n"
     ]
    }
   ],
   "source": [
    "\n",
    "# Highest + lowest covariance \n",
    "covariance_masked = np.copy(cov_matrix_inner)\n",
    "np.fill_diagonal(covariance_masked, np.nan)\n",
    "# Largest + Smallest\n",
    "largest_covariance_index = np.unravel_index(np.nanargmax(covariance_masked), covariance_masked.shape)\n",
    "smallest_covariance_index = np.unravel_index(np.nanargmin(covariance_masked), covariance_masked.shape)\n",
    "\n",
    "# Get Names\n",
    "largest_covariance_attributes = (df1.columns[largest_covariance_index[0]], df1.columns[largest_covariance_index[1]])\n",
    "smallest_covariance_attributes = (df1.columns[smallest_covariance_index[0]], df1.columns[smallest_covariance_index[1]])\n",
    "largest_covariance_value = covariance_masked[largest_covariance_index]\n",
    "smallest_covariance_value = covariance_masked[smallest_covariance_index]\n",
    "\n",
    "#Print\n",
    "print('Largest Covariance Pair:',largest_covariance_attributes, largest_covariance_value)\n",
    "print('Smallest Covariance Pair: ',smallest_covariance_attributes, smallest_covariance_value)"
   ]
  },
  {
   "cell_type": "code",
   "execution_count": null,
   "id": "122418d8-7a0a-4ce8-988c-c4f3a1cdaeeb",
   "metadata": {},
   "outputs": [],
   "source": []
  }
 ],
 "metadata": {
  "kernelspec": {
   "display_name": "anaconda-2024.02-py310",
   "language": "python",
   "name": "conda-env-anaconda-2024.02-py310-py"
  },
  "language_info": {
   "codemirror_mode": {
    "name": "ipython",
    "version": 3
   },
   "file_extension": ".py",
   "mimetype": "text/x-python",
   "name": "python",
   "nbconvert_exporter": "python",
   "pygments_lexer": "ipython3",
   "version": "3.10.14"
  }
 },
 "nbformat": 4,
 "nbformat_minor": 5
}
